{
  "nbformat": 4,
  "nbformat_minor": 0,
  "metadata": {
    "colab": {
      "name": "fashion_mnist.ipynb",
      "provenance": [],
      "collapsed_sections": [],
      "authorship_tag": "ABX9TyNCSrJNs7hqinST4cmExxP5",
      "include_colab_link": true
    },
    "kernelspec": {
      "name": "python3",
      "display_name": "Python 3"
    },
    "language_info": {
      "name": "python"
    }
  },
  "cells": [
    {
      "cell_type": "markdown",
      "metadata": {
        "id": "view-in-github",
        "colab_type": "text"
      },
      "source": [
        "<a href=\"https://colab.research.google.com/github/lukasz86s/Machine_learning/blob/main/fashion_mnist.ipynb\" target=\"_parent\"><img src=\"https://colab.research.google.com/assets/colab-badge.svg\" alt=\"Open In Colab\"/></a>"
      ]
    },
    {
      "cell_type": "code",
      "metadata": {
        "id": "uPmt03J6fDNP"
      },
      "source": [
        "%tensorflow_version 2.x\n",
        "import tensorflow as tf\n",
        "from tensorflow.keras.models import Sequential\n",
        "from tensorflow.keras.layers import Dense, Flatten, Dropout\n",
        "from tensorflow.keras.datasets.fashion_mnist import load_data\n",
        "\n",
        "import pandas as pd\n",
        "import numpy as np\n",
        "import matplotlib.pyplot as plt\n",
        "import seaborn as sns\n",
        "\n",
        "np.set_printoptions(precision=4, suppress=True, linewidth=350)\n",
        "pd.options.display.float_format = lambda x: f'{x:.6f}'"
      ],
      "execution_count": null,
      "outputs": []
    },
    {
      "cell_type": "code",
      "metadata": {
        "id": "KeLByIm7gZYy",
        "colab": {
          "base_uri": "https://localhost:8080/"
        },
        "outputId": "e433e2ae-943a-46b1-b318-2c55a4167013"
      },
      "source": [
        "(x_train, y_train), (x_test, y_test)= load_data()\n",
        "fasion_classes = ('T-shirt/top', 'Trouser', 'Pullover', 'Dress', 'Coat', 'Sandal', 'Shirt', 'Sneaker', 'Bag', 'Ankle boot')"
      ],
      "execution_count": null,
      "outputs": [
        {
          "output_type": "stream",
          "name": "stdout",
          "text": [
            "Downloading data from https://storage.googleapis.com/tensorflow/tf-keras-datasets/train-labels-idx1-ubyte.gz\n",
            "32768/29515 [=================================] - 0s 0us/step\n",
            "40960/29515 [=========================================] - 0s 0us/step\n",
            "Downloading data from https://storage.googleapis.com/tensorflow/tf-keras-datasets/train-images-idx3-ubyte.gz\n",
            "26427392/26421880 [==============================] - 0s 0us/step\n",
            "26435584/26421880 [==============================] - 0s 0us/step\n",
            "Downloading data from https://storage.googleapis.com/tensorflow/tf-keras-datasets/t10k-labels-idx1-ubyte.gz\n",
            "16384/5148 [===============================================================================================] - 0s 0us/step\n",
            "Downloading data from https://storage.googleapis.com/tensorflow/tf-keras-datasets/t10k-images-idx3-ubyte.gz\n",
            "4423680/4422102 [==============================] - 0s 0us/step\n",
            "4431872/4422102 [==============================] - 0s 0us/step\n"
          ]
        }
      ]
    },
    {
      "cell_type": "code",
      "metadata": {
        "colab": {
          "base_uri": "https://localhost:8080/",
          "height": 263
        },
        "id": "-K__FKPOhtmL",
        "outputId": "ae8c49a4-d2e9-4538-bcfe-705117b13e2e"
      },
      "source": [
        "#showing random samples\n",
        "plt.figure(figsize=(8, 4))\n",
        "for i in range(1, 9):\n",
        "  plt.subplot(2, 4, i)\n",
        "  index = np.random.randint(x_train.shape[0])\n",
        "  plt.imshow(x_train[index], cmap='gray_r')\n",
        "  plt.axis('off')\n",
        "  plt.title(fasion_classes[y_train[index]])\n",
        "plt.show()"
      ],
      "execution_count": null,
      "outputs": [
        {
          "output_type": "display_data",
          "data": {
            "image/png": "[encoded data removed]",
            "text/plain": [
              "<Figure size 576x288 with 8 Axes>"
            ]
          },
          "metadata": {
            "needs_background": "light"
          }
        }
      ]
    },
    {
      "cell_type": "code",
      "metadata": {
        "id": "Kq_CYx5E9lyt"
      },
      "source": [
        "#convert\n",
        "x_train = x_train / 255\n",
        "x_test = x_test / 255"
      ],
      "execution_count": null,
      "outputs": []
    },
    {
      "cell_type": "code",
      "metadata": {
        "colab": {
          "base_uri": "https://localhost:8080/"
        },
        "id": "fYIA0lYfAbA0",
        "outputId": "fc8bfde6-81ad-4309-c8da-69db25ee6437"
      },
      "source": [
        "x_train[0]"
      ],
      "execution_count": null,
      "outputs": [
        {
          "output_type": "execute_result",
          "data": {
            "text/plain": [
              "array([[0.    , 0.    , 0.    , 0.    , 0.    , 0.    , 0.    , 0.    , 0.    , 0.    , 0.    , 0.    , 0.    , 0.    , 0.    , 0.    , 0.    , 0.    , 0.    , 0.    , 0.    , 0.    , 0.    , 0.    , 0.    , 0.    , 0.    , 0.    ],\n",
              "       [0.    , 0.    , 0.    , 0.    , 0.    , 0.    , 0.    , 0.    , 0.    , 0.    , 0.    , 0.    , 0.    , 0.    , 0.    , 0.    , 0.    , 0.    , 0.    , 0.    , 0.    , 0.    , 0.    , 0.    , 0.    , 0.    , 0.    , 0.    ],\n",
              "       [0.    , 0.    , 0.    , 0.    , 0.    , 0.    , 0.    , 0.    , 0.    , 0.    , 0.    , 0.    , 0.    , 0.    , 0.    , 0.    , 0.    , 0.    , 0.    , 0.    , 0.    , 0.    , 0.    , 0.    , 0.    , 0.    , 0.    , 0.    ],\n",
              "       [0.    , 0.    , 0.    , 0.    , 0.    , 0.    , 0.    , 0.    , 0.    , 0.    , 0.    , 0.    , 0.0039, 0.    , 0.    , 0.051 , 0.2863, 0.    , 0.    , 0.0039, 0.0157, 0.    , 0.    , 0.    , 0.    , 0.0039, 0.0039, 0.    ],\n",
              "       [0.    , 0.    , 0.    , 0.    , 0.    , 0.    , 0.    , 0.    , 0.    , 0.    , 0.    , 0.    , 0.0118, 0.    , 0.1412, 0.5333, 0.498 , 0.2431, 0.2118, 0.    , 0.    , 0.    , 0.0039, 0.0118, 0.0157, 0.    , 0.    , 0.0118],\n",
              "       [0.    , 0.    , 0.    , 0.    , 0.    , 0.    , 0.    , 0.    , 0.    , 0.    , 0.    , 0.    , 0.0235, 0.    , 0.4   , 0.8   , 0.6902, 0.5255, 0.5647, 0.4824, 0.0902, 0.    , 0.    , 0.    , 0.    , 0.0471, 0.0392, 0.    ],\n",
              "       [0.    , 0.    , 0.    , 0.    , 0.    , 0.    , 0.    , 0.    , 0.    , 0.    , 0.    , 0.    , 0.    , 0.    , 0.6078, 0.9255, 0.8118, 0.698 , 0.4196, 0.6118, 0.6314, 0.4275, 0.251 , 0.0902, 0.302 , 0.5098, 0.2824, 0.0588],\n",
              "       [0.    , 0.    , 0.    , 0.    , 0.    , 0.    , 0.    , 0.    , 0.    , 0.    , 0.    , 0.0039, 0.    , 0.2706, 0.8118, 0.8745, 0.8549, 0.8471, 0.8471, 0.6392, 0.498 , 0.4745, 0.4784, 0.5725, 0.5529, 0.3451, 0.6745, 0.2588],\n",
              "       [0.    , 0.    , 0.    , 0.    , 0.    , 0.    , 0.    , 0.    , 0.    , 0.0039, 0.0039, 0.0039, 0.    , 0.7843, 0.9098, 0.9098, 0.9137, 0.898 , 0.8745, 0.8745, 0.8431, 0.8353, 0.6431, 0.498 , 0.4824, 0.7686, 0.898 , 0.    ],\n",
              "       [0.    , 0.    , 0.    , 0.    , 0.    , 0.    , 0.    , 0.    , 0.    , 0.    , 0.    , 0.    , 0.    , 0.7176, 0.8824, 0.8471, 0.8745, 0.8941, 0.9216, 0.8902, 0.8784, 0.8706, 0.8784, 0.8667, 0.8745, 0.9608, 0.6784, 0.    ],\n",
              "       [0.    , 0.    , 0.    , 0.    , 0.    , 0.    , 0.    , 0.    , 0.    , 0.    , 0.    , 0.    , 0.    , 0.7569, 0.8941, 0.8549, 0.8353, 0.7765, 0.7059, 0.8314, 0.8235, 0.8275, 0.8353, 0.8745, 0.8627, 0.9529, 0.7922, 0.    ],\n",
              "       [0.    , 0.    , 0.    , 0.    , 0.    , 0.    , 0.    , 0.    , 0.    , 0.0039, 0.0118, 0.    , 0.0471, 0.8588, 0.8627, 0.8314, 0.8549, 0.7529, 0.6627, 0.8902, 0.8157, 0.8549, 0.8784, 0.8314, 0.8863, 0.7725, 0.8196, 0.2039],\n",
              "       [0.    , 0.    , 0.    , 0.    , 0.    , 0.    , 0.    , 0.    , 0.    , 0.    , 0.0235, 0.    , 0.3882, 0.9569, 0.8706, 0.8627, 0.8549, 0.7961, 0.7765, 0.8667, 0.8431, 0.8353, 0.8706, 0.8627, 0.9608, 0.4667, 0.6549, 0.2196],\n",
              "       [0.    , 0.    , 0.    , 0.    , 0.    , 0.    , 0.    , 0.    , 0.    , 0.0157, 0.    , 0.    , 0.2157, 0.9255, 0.8941, 0.902 , 0.8941, 0.9412, 0.9098, 0.8353, 0.8549, 0.8745, 0.9176, 0.851 , 0.851 , 0.8196, 0.3608, 0.    ],\n",
              "       [0.    , 0.    , 0.0039, 0.0157, 0.0235, 0.0275, 0.0078, 0.    , 0.    , 0.    , 0.    , 0.    , 0.9294, 0.8863, 0.851 , 0.8745, 0.8706, 0.8588, 0.8706, 0.8667, 0.8471, 0.8745, 0.898 , 0.8431, 0.8549, 1.    , 0.302 , 0.    ],\n",
              "       [0.    , 0.0118, 0.    , 0.    , 0.    , 0.    , 0.    , 0.    , 0.    , 0.2431, 0.5686, 0.8   , 0.8941, 0.8118, 0.8353, 0.8667, 0.8549, 0.8157, 0.8275, 0.8549, 0.8784, 0.8745, 0.8588, 0.8431, 0.8784, 0.9569, 0.6235, 0.    ],\n",
              "       [0.    , 0.    , 0.    , 0.    , 0.0706, 0.1725, 0.3216, 0.4196, 0.7412, 0.8941, 0.8627, 0.8706, 0.851 , 0.8863, 0.7843, 0.8039, 0.8275, 0.902 , 0.8784, 0.9176, 0.6902, 0.7373, 0.9804, 0.9725, 0.9137, 0.9333, 0.8431, 0.    ],\n",
              "       [0.    , 0.2235, 0.7333, 0.8157, 0.8784, 0.8667, 0.8784, 0.8157, 0.8   , 0.8392, 0.8157, 0.8196, 0.7843, 0.6235, 0.9608, 0.7569, 0.8078, 0.8745, 1.    , 1.    , 0.8667, 0.9176, 0.8667, 0.8275, 0.8627, 0.9098, 0.9647, 0.    ],\n",
              "       [0.0118, 0.7922, 0.8941, 0.8784, 0.8667, 0.8275, 0.8275, 0.8392, 0.8039, 0.8039, 0.8039, 0.8627, 0.9412, 0.3137, 0.5882, 1.    , 0.898 , 0.8667, 0.7373, 0.6039, 0.749 , 0.8235, 0.8   , 0.8196, 0.8706, 0.8941, 0.8824, 0.    ],\n",
              "       [0.3843, 0.9137, 0.7765, 0.8235, 0.8706, 0.898 , 0.898 , 0.9176, 0.9765, 0.8627, 0.7608, 0.8431, 0.851 , 0.9451, 0.2549, 0.2863, 0.4157, 0.4588, 0.6588, 0.8588, 0.8667, 0.8431, 0.851 , 0.8745, 0.8745, 0.8784, 0.898 , 0.1137],\n",
              "       [0.2941, 0.8   , 0.8314, 0.8   , 0.7569, 0.8039, 0.8275, 0.8824, 0.8471, 0.7255, 0.7725, 0.8078, 0.7765, 0.8353, 0.9412, 0.7647, 0.8902, 0.9608, 0.9373, 0.8745, 0.8549, 0.8314, 0.8196, 0.8706, 0.8627, 0.8667, 0.902 , 0.2627],\n",
              "       [0.1882, 0.7961, 0.7176, 0.7608, 0.8353, 0.7725, 0.7255, 0.7451, 0.7608, 0.7529, 0.7922, 0.8392, 0.8588, 0.8667, 0.8627, 0.9255, 0.8824, 0.8471, 0.7804, 0.8078, 0.7294, 0.7098, 0.6941, 0.6745, 0.7098, 0.8039, 0.8078, 0.451 ],\n",
              "       [0.    , 0.4784, 0.8588, 0.7569, 0.702 , 0.6706, 0.7176, 0.7686, 0.8   , 0.8235, 0.8353, 0.8118, 0.8275, 0.8235, 0.7843, 0.7686, 0.7608, 0.749 , 0.7647, 0.749 , 0.7765, 0.7529, 0.6902, 0.6118, 0.6549, 0.6941, 0.8235, 0.3608],\n",
              "       [0.    , 0.    , 0.2902, 0.7412, 0.8314, 0.749 , 0.6863, 0.6745, 0.6863, 0.7098, 0.7255, 0.7373, 0.7412, 0.7373, 0.7569, 0.7765, 0.8   , 0.8196, 0.8235, 0.8235, 0.8275, 0.7373, 0.7373, 0.7608, 0.7529, 0.8471, 0.6667, 0.    ],\n",
              "       [0.0078, 0.    , 0.    , 0.    , 0.2588, 0.7843, 0.8706, 0.9294, 0.9373, 0.949 , 0.9647, 0.9529, 0.9569, 0.8667, 0.8627, 0.7569, 0.749 , 0.702 , 0.7137, 0.7137, 0.7098, 0.6902, 0.651 , 0.6588, 0.3882, 0.2275, 0.    , 0.    ],\n",
              "       [0.    , 0.    , 0.    , 0.    , 0.    , 0.    , 0.    , 0.1569, 0.2392, 0.1725, 0.2824, 0.1608, 0.1373, 0.    , 0.    , 0.    , 0.    , 0.    , 0.    , 0.    , 0.    , 0.    , 0.    , 0.    , 0.    , 0.    , 0.    , 0.    ],\n",
              "       [0.    , 0.    , 0.    , 0.    , 0.    , 0.    , 0.    , 0.    , 0.    , 0.    , 0.    , 0.    , 0.    , 0.    , 0.    , 0.    , 0.    , 0.    , 0.    , 0.    , 0.    , 0.    , 0.    , 0.    , 0.    , 0.    , 0.    , 0.    ],\n",
              "       [0.    , 0.    , 0.    , 0.    , 0.    , 0.    , 0.    , 0.    , 0.    , 0.    , 0.    , 0.    , 0.    , 0.    , 0.    , 0.    , 0.    , 0.    , 0.    , 0.    , 0.    , 0.    , 0.    , 0.    , 0.    , 0.    , 0.    , 0.    ]])"
            ]
          },
          "metadata": {},
          "execution_count": 5
        }
      ]
    },
    {
      "cell_type": "code",
      "metadata": {
        "colab": {
          "base_uri": "https://localhost:8080/"
        },
        "id": "DNCpKp5TAyIs",
        "outputId": "288e9393-19e9-4e72-f0f3-d396bce52852"
      },
      "source": [
        "from tensorflow.keras.regularizers import l2\n",
        "#bulding model\n",
        "model = Sequential()\n",
        "model.add(Flatten(input_shape=(28, 28)))\n",
        "model.add(Dense(units=32, activation='relu' ))\n",
        "model.add(Dropout(0.2))\n",
        "model.add(Dense(units=16, activation='relu'))\n",
        "model.add(Dense(units=10, activation='softmax'))\n",
        "model.summary()"
      ],
      "execution_count": null,
      "outputs": [
        {
          "output_type": "stream",
          "name": "stdout",
          "text": [
            "Model: \"sequential\"\n",
            "_________________________________________________________________\n",
            "Layer (type)                 Output Shape              Param #   \n",
            "=================================================================\n",
            "flatten (Flatten)            (None, 784)               0         \n",
            "_________________________________________________________________\n",
            "dense (Dense)                (None, 32)                25120     \n",
            "_________________________________________________________________\n",
            "dropout (Dropout)            (None, 32)                0         \n",
            "_________________________________________________________________\n",
            "dense_1 (Dense)              (None, 16)                528       \n",
            "_________________________________________________________________\n",
            "dense_2 (Dense)              (None, 10)                170       \n",
            "=================================================================\n",
            "Total params: 25,818\n",
            "Trainable params: 25,818\n",
            "Non-trainable params: 0\n",
            "_________________________________________________________________\n"
          ]
        }
      ]
    },
    {
      "cell_type": "code",
      "metadata": {
        "id": "4e7k42vIEEPH"
      },
      "source": [
        "model.compile(optimizer='adam',\n",
        "              loss='sparse_categorical_crossentropy',\n",
        "              metrics=['accuracy'])"
      ],
      "execution_count": null,
      "outputs": []
    },
    {
      "cell_type": "code",
      "metadata": {
        "colab": {
          "base_uri": "https://localhost:8080/"
        },
        "id": "GwX_KzeYEYiG",
        "outputId": "269dc792-8960-4f45-9f25-9cbe4c5c9e1b"
      },
      "source": [
        "history = model.fit(x=x_train, y=y_train, batch_size=32, epochs=25, validation_split=0.2)"
      ],
      "execution_count": null,
      "outputs": [
        {
          "output_type": "stream",
          "name": "stdout",
          "text": [
            "Epoch 1/25\n",
            "1500/1500 [==============================] - 4s 2ms/step - loss: 0.7204 - accuracy: 0.7444 - val_loss: 0.4759 - val_accuracy: 0.8292\n",
            "Epoch 2/25\n",
            "1500/1500 [==============================] - 3s 2ms/step - loss: 0.4985 - accuracy: 0.8212 - val_loss: 0.4130 - val_accuracy: 0.8503\n",
            "Epoch 3/25\n",
            "1500/1500 [==============================] - 3s 2ms/step - loss: 0.4627 - accuracy: 0.8341 - val_loss: 0.4177 - val_accuracy: 0.8502\n",
            "Epoch 4/25\n",
            "1500/1500 [==============================] - 3s 2ms/step - loss: 0.4379 - accuracy: 0.8431 - val_loss: 0.3936 - val_accuracy: 0.8583\n",
            "Epoch 5/25\n",
            "1500/1500 [==============================] - 3s 2ms/step - loss: 0.4236 - accuracy: 0.8462 - val_loss: 0.3814 - val_accuracy: 0.8621\n",
            "Epoch 6/25\n",
            "1500/1500 [==============================] - 3s 2ms/step - loss: 0.4113 - accuracy: 0.8508 - val_loss: 0.3763 - val_accuracy: 0.8643\n",
            "Epoch 7/25\n",
            "1500/1500 [==============================] - 3s 2ms/step - loss: 0.3980 - accuracy: 0.8552 - val_loss: 0.3807 - val_accuracy: 0.8633\n",
            "Epoch 8/25\n",
            "1500/1500 [==============================] - 3s 2ms/step - loss: 0.3921 - accuracy: 0.8574 - val_loss: 0.3697 - val_accuracy: 0.8694\n",
            "Epoch 9/25\n",
            "1500/1500 [==============================] - 3s 2ms/step - loss: 0.3853 - accuracy: 0.8594 - val_loss: 0.3697 - val_accuracy: 0.8677\n",
            "Epoch 10/25\n",
            "1500/1500 [==============================] - 3s 2ms/step - loss: 0.3790 - accuracy: 0.8604 - val_loss: 0.3631 - val_accuracy: 0.8708\n",
            "Epoch 11/25\n",
            "1500/1500 [==============================] - 3s 2ms/step - loss: 0.3753 - accuracy: 0.8637 - val_loss: 0.3676 - val_accuracy: 0.8663\n",
            "Epoch 12/25\n",
            "1500/1500 [==============================] - 3s 2ms/step - loss: 0.3703 - accuracy: 0.8645 - val_loss: 0.3664 - val_accuracy: 0.8668\n",
            "Epoch 13/25\n",
            "1500/1500 [==============================] - 3s 2ms/step - loss: 0.3682 - accuracy: 0.8651 - val_loss: 0.3570 - val_accuracy: 0.8730\n",
            "Epoch 14/25\n",
            "1500/1500 [==============================] - 3s 2ms/step - loss: 0.3616 - accuracy: 0.8660 - val_loss: 0.3525 - val_accuracy: 0.8750\n",
            "Epoch 15/25\n",
            "1500/1500 [==============================] - 3s 2ms/step - loss: 0.3555 - accuracy: 0.8688 - val_loss: 0.3740 - val_accuracy: 0.8687\n",
            "Epoch 16/25\n",
            "1500/1500 [==============================] - 3s 2ms/step - loss: 0.3540 - accuracy: 0.8696 - val_loss: 0.3652 - val_accuracy: 0.8693\n",
            "Epoch 17/25\n",
            "1500/1500 [==============================] - 3s 2ms/step - loss: 0.3521 - accuracy: 0.8692 - val_loss: 0.3487 - val_accuracy: 0.8734\n",
            "Epoch 18/25\n",
            "1500/1500 [==============================] - 3s 2ms/step - loss: 0.3484 - accuracy: 0.8703 - val_loss: 0.3511 - val_accuracy: 0.8758\n",
            "Epoch 19/25\n",
            "1500/1500 [==============================] - 3s 2ms/step - loss: 0.3431 - accuracy: 0.8739 - val_loss: 0.3581 - val_accuracy: 0.8727\n",
            "Epoch 20/25\n",
            "1500/1500 [==============================] - 3s 2ms/step - loss: 0.3413 - accuracy: 0.8733 - val_loss: 0.3560 - val_accuracy: 0.8716\n",
            "Epoch 21/25\n",
            "1500/1500 [==============================] - 3s 2ms/step - loss: 0.3439 - accuracy: 0.8723 - val_loss: 0.3513 - val_accuracy: 0.8731\n",
            "Epoch 22/25\n",
            "1500/1500 [==============================] - 3s 2ms/step - loss: 0.3379 - accuracy: 0.8760 - val_loss: 0.3549 - val_accuracy: 0.8723\n",
            "Epoch 23/25\n",
            "1500/1500 [==============================] - 3s 2ms/step - loss: 0.3372 - accuracy: 0.8733 - val_loss: 0.3546 - val_accuracy: 0.8762\n",
            "Epoch 24/25\n",
            "1500/1500 [==============================] - 3s 2ms/step - loss: 0.3340 - accuracy: 0.8767 - val_loss: 0.3644 - val_accuracy: 0.8715\n",
            "Epoch 25/25\n",
            "1500/1500 [==============================] - 3s 2ms/step - loss: 0.3328 - accuracy: 0.8769 - val_loss: 0.3552 - val_accuracy: 0.8742\n"
          ]
        }
      ]
    },
    {
      "cell_type": "code",
      "metadata": {
        "id": "LQNO22c5R7S4"
      },
      "source": [
        "history = pd.DataFrame(history.history)"
      ],
      "execution_count": null,
      "outputs": []
    },
    {
      "cell_type": "code",
      "metadata": {
        "colab": {
          "base_uri": "https://localhost:8080/",
          "height": 831
        },
        "id": "iq8HSHSYSFe7",
        "outputId": "d3b66a96-303b-4912-fac9-5a5c3b97b3c9"
      },
      "source": [
        "history"
      ],
      "execution_count": null,
      "outputs": [
        {
          "output_type": "execute_result",
          "data": {
            "text/html": [
              "<div>\n",
              "<style scoped>\n",
              "    .dataframe tbody tr th:only-of-type {\n",
              "        vertical-align: middle;\n",
              "    }\n",
              "\n",
              "    .dataframe tbody tr th {\n",
              "        vertical-align: top;\n",
              "    }\n",
              "\n",
              "    .dataframe thead th {\n",
              "        text-align: right;\n",
              "    }\n",
              "</style>\n",
              "<table border=\"1\" class=\"dataframe\">\n",
              "  <thead>\n",
              "    <tr style=\"text-align: right;\">\n",
              "      <th></th>\n",
              "      <th>loss</th>\n",
              "      <th>accuracy</th>\n",
              "      <th>val_loss</th>\n",
              "      <th>val_accuracy</th>\n",
              "    </tr>\n",
              "  </thead>\n",
              "  <tbody>\n",
              "    <tr>\n",
              "      <th>0</th>\n",
              "      <td>0.720378</td>\n",
              "      <td>0.744438</td>\n",
              "      <td>0.475894</td>\n",
              "      <td>0.829167</td>\n",
              "    </tr>\n",
              "    <tr>\n",
              "      <th>1</th>\n",
              "      <td>0.498547</td>\n",
              "      <td>0.821229</td>\n",
              "      <td>0.413044</td>\n",
              "      <td>0.850333</td>\n",
              "    </tr>\n",
              "    <tr>\n",
              "      <th>2</th>\n",
              "      <td>0.462664</td>\n",
              "      <td>0.834125</td>\n",
              "      <td>0.417671</td>\n",
              "      <td>0.850167</td>\n",
              "    </tr>\n",
              "    <tr>\n",
              "      <th>3</th>\n",
              "      <td>0.437942</td>\n",
              "      <td>0.843083</td>\n",
              "      <td>0.393632</td>\n",
              "      <td>0.858250</td>\n",
              "    </tr>\n",
              "    <tr>\n",
              "      <th>4</th>\n",
              "      <td>0.423593</td>\n",
              "      <td>0.846187</td>\n",
              "      <td>0.381362</td>\n",
              "      <td>0.862083</td>\n",
              "    </tr>\n",
              "    <tr>\n",
              "      <th>5</th>\n",
              "      <td>0.411274</td>\n",
              "      <td>0.850792</td>\n",
              "      <td>0.376349</td>\n",
              "      <td>0.864333</td>\n",
              "    </tr>\n",
              "    <tr>\n",
              "      <th>6</th>\n",
              "      <td>0.397967</td>\n",
              "      <td>0.855167</td>\n",
              "      <td>0.380749</td>\n",
              "      <td>0.863250</td>\n",
              "    </tr>\n",
              "    <tr>\n",
              "      <th>7</th>\n",
              "      <td>0.392121</td>\n",
              "      <td>0.857375</td>\n",
              "      <td>0.369743</td>\n",
              "      <td>0.869417</td>\n",
              "    </tr>\n",
              "    <tr>\n",
              "      <th>8</th>\n",
              "      <td>0.385288</td>\n",
              "      <td>0.859375</td>\n",
              "      <td>0.369742</td>\n",
              "      <td>0.867750</td>\n",
              "    </tr>\n",
              "    <tr>\n",
              "      <th>9</th>\n",
              "      <td>0.379039</td>\n",
              "      <td>0.860396</td>\n",
              "      <td>0.363093</td>\n",
              "      <td>0.870750</td>\n",
              "    </tr>\n",
              "    <tr>\n",
              "      <th>10</th>\n",
              "      <td>0.375280</td>\n",
              "      <td>0.863667</td>\n",
              "      <td>0.367623</td>\n",
              "      <td>0.866333</td>\n",
              "    </tr>\n",
              "    <tr>\n",
              "      <th>11</th>\n",
              "      <td>0.370336</td>\n",
              "      <td>0.864542</td>\n",
              "      <td>0.366353</td>\n",
              "      <td>0.866833</td>\n",
              "    </tr>\n",
              "    <tr>\n",
              "      <th>12</th>\n",
              "      <td>0.368244</td>\n",
              "      <td>0.865062</td>\n",
              "      <td>0.357024</td>\n",
              "      <td>0.873000</td>\n",
              "    </tr>\n",
              "    <tr>\n",
              "      <th>13</th>\n",
              "      <td>0.361613</td>\n",
              "      <td>0.866000</td>\n",
              "      <td>0.352489</td>\n",
              "      <td>0.875000</td>\n",
              "    </tr>\n",
              "    <tr>\n",
              "      <th>14</th>\n",
              "      <td>0.355516</td>\n",
              "      <td>0.868833</td>\n",
              "      <td>0.373994</td>\n",
              "      <td>0.868667</td>\n",
              "    </tr>\n",
              "    <tr>\n",
              "      <th>15</th>\n",
              "      <td>0.353969</td>\n",
              "      <td>0.869604</td>\n",
              "      <td>0.365229</td>\n",
              "      <td>0.869333</td>\n",
              "    </tr>\n",
              "    <tr>\n",
              "      <th>16</th>\n",
              "      <td>0.352126</td>\n",
              "      <td>0.869229</td>\n",
              "      <td>0.348679</td>\n",
              "      <td>0.873417</td>\n",
              "    </tr>\n",
              "    <tr>\n",
              "      <th>17</th>\n",
              "      <td>0.348368</td>\n",
              "      <td>0.870333</td>\n",
              "      <td>0.351078</td>\n",
              "      <td>0.875833</td>\n",
              "    </tr>\n",
              "    <tr>\n",
              "      <th>18</th>\n",
              "      <td>0.343065</td>\n",
              "      <td>0.873875</td>\n",
              "      <td>0.358082</td>\n",
              "      <td>0.872667</td>\n",
              "    </tr>\n",
              "    <tr>\n",
              "      <th>19</th>\n",
              "      <td>0.341325</td>\n",
              "      <td>0.873312</td>\n",
              "      <td>0.356038</td>\n",
              "      <td>0.871583</td>\n",
              "    </tr>\n",
              "    <tr>\n",
              "      <th>20</th>\n",
              "      <td>0.343917</td>\n",
              "      <td>0.872271</td>\n",
              "      <td>0.351306</td>\n",
              "      <td>0.873083</td>\n",
              "    </tr>\n",
              "    <tr>\n",
              "      <th>21</th>\n",
              "      <td>0.337907</td>\n",
              "      <td>0.875958</td>\n",
              "      <td>0.354900</td>\n",
              "      <td>0.872333</td>\n",
              "    </tr>\n",
              "    <tr>\n",
              "      <th>22</th>\n",
              "      <td>0.337202</td>\n",
              "      <td>0.873271</td>\n",
              "      <td>0.354573</td>\n",
              "      <td>0.876167</td>\n",
              "    </tr>\n",
              "    <tr>\n",
              "      <th>23</th>\n",
              "      <td>0.333995</td>\n",
              "      <td>0.876750</td>\n",
              "      <td>0.364416</td>\n",
              "      <td>0.871500</td>\n",
              "    </tr>\n",
              "    <tr>\n",
              "      <th>24</th>\n",
              "      <td>0.332804</td>\n",
              "      <td>0.876875</td>\n",
              "      <td>0.355225</td>\n",
              "      <td>0.874167</td>\n",
              "    </tr>\n",
              "  </tbody>\n",
              "</table>\n",
              "</div>"
            ],
            "text/plain": [
              "       loss  accuracy  val_loss  val_accuracy\n",
              "0  0.720378  0.744438  0.475894      0.829167\n",
              "1  0.498547  0.821229  0.413044      0.850333\n",
              "2  0.462664  0.834125  0.417671      0.850167\n",
              "3  0.437942  0.843083  0.393632      0.858250\n",
              "4  0.423593  0.846187  0.381362      0.862083\n",
              "5  0.411274  0.850792  0.376349      0.864333\n",
              "6  0.397967  0.855167  0.380749      0.863250\n",
              "7  0.392121  0.857375  0.369743      0.869417\n",
              "8  0.385288  0.859375  0.369742      0.867750\n",
              "9  0.379039  0.860396  0.363093      0.870750\n",
              "10 0.375280  0.863667  0.367623      0.866333\n",
              "11 0.370336  0.864542  0.366353      0.866833\n",
              "12 0.368244  0.865062  0.357024      0.873000\n",
              "13 0.361613  0.866000  0.352489      0.875000\n",
              "14 0.355516  0.868833  0.373994      0.868667\n",
              "15 0.353969  0.869604  0.365229      0.869333\n",
              "16 0.352126  0.869229  0.348679      0.873417\n",
              "17 0.348368  0.870333  0.351078      0.875833\n",
              "18 0.343065  0.873875  0.358082      0.872667\n",
              "19 0.341325  0.873312  0.356038      0.871583\n",
              "20 0.343917  0.872271  0.351306      0.873083\n",
              "21 0.337907  0.875958  0.354900      0.872333\n",
              "22 0.337202  0.873271  0.354573      0.876167\n",
              "23 0.333995  0.876750  0.364416      0.871500\n",
              "24 0.332804  0.876875  0.355225      0.874167"
            ]
          },
          "metadata": {},
          "execution_count": 10
        }
      ]
    },
    {
      "cell_type": "code",
      "metadata": {
        "colab": {
          "base_uri": "https://localhost:8080/",
          "height": 542
        },
        "id": "FZkKnzhPSPYR",
        "outputId": "dfeda0e2-57e0-4a0b-8a10-dab5f21dc620"
      },
      "source": [
        "import plotly.graph_objects as go\n",
        "fig = go.Figure()\n",
        "fig.add_trace(go.Scatter(y=history.val_accuracy, name='val_acc'))\n",
        "fig.add_trace(go.Scatter(y=history.val_loss, name='val_loss'))\n",
        "fig.add_trace(go.Scatter(y=history.loss, name='loss'))\n",
        "fig.add_trace(go.Scatter(y=history.accuracy, name='acc'))\n",
        "fig.update_layout()\n",
        "fig.show()"
      ],
      "execution_count": null,
      "outputs": [
        {
          "output_type": "display_data",
          "data": {
            "text/html": [
              "<html>\n",
              "<head><meta charset=\"utf-8\" /></head>\n",
              "<body>\n",
              "    <div>\n",
              "            <script src=\"https://cdnjs.cloudflare.com/ajax/libs/mathjax/2.7.5/MathJax.js?config=TeX-AMS-MML_SVG\"></script><script type=\"text/javascript\">if (window.MathJax) {MathJax.Hub.Config({SVG: {font: \"STIX-Web\"}});}</script>\n",
              "                <script type=\"text/javascript\">window.PlotlyConfig = {MathJaxConfig: 'local'};</script>\n",
              "        <script src=\"https://cdn.plot.ly/plotly-latest.min.js\"></script>    \n",
              "            <div id=\"523f5b3d-315d-458d-b26e-0bab5245ca82\" class=\"plotly-graph-div\" style=\"height:525px; width:100%;\"></div>\n",
              "            <script type=\"text/javascript\">\n",
              "                \n",
              "                    window.PLOTLYENV=window.PLOTLYENV || {};\n",
              "                    \n",
              "                if (document.getElementById(\"523f5b3d-315d-458d-b26e-0bab5245ca82\")) {\n",
              "                    Plotly.newPlot(\n",
              "                        '523f5b3d-315d-458d-b26e-0bab5245ca82',\n",
              "                        [{\"name\": \"val_acc\", \"type\": \"scatter\", \"y\": [0.8291666507720947, 0.8503333330154419, 0.8501666784286499, 0.8582500219345093, 0.8620833158493042, 0.8643333315849304, 0.8632500171661377, 0.8694166541099548, 0.8677499890327454, 0.8707500100135803, 0.8663333058357239, 0.8668333292007446, 0.8730000257492065, 0.875, 0.8686666488647461, 0.8693333268165588, 0.8734166622161865, 0.8758333325386047, 0.8726666569709778, 0.8715833425521851, 0.8730833530426025, 0.8723333477973938, 0.8761666417121887, 0.8715000152587891, 0.8741666674613953]}, {\"name\": \"val_loss\", \"type\": \"scatter\", \"y\": [0.47589433193206787, 0.4130438268184662, 0.41767096519470215, 0.393632173538208, 0.3813624978065491, 0.37634891271591187, 0.3807491064071655, 0.36974307894706726, 0.3697422742843628, 0.3630930185317993, 0.367622971534729, 0.36635270714759827, 0.3570243716239929, 0.35248902440071106, 0.37399446964263916, 0.36522889137268066, 0.3486788272857666, 0.3510775864124298, 0.3580819368362427, 0.35603755712509155, 0.35130587220191956, 0.35489970445632935, 0.3545730710029602, 0.3644160032272339, 0.35522547364234924]}, {\"name\": \"loss\", \"type\": \"scatter\", \"y\": [0.7203783392906189, 0.4985467195510864, 0.46266406774520874, 0.43794170022010803, 0.4235932230949402, 0.4112740457057953, 0.39796680212020874, 0.3921213746070862, 0.38528767228126526, 0.37903934717178345, 0.3752799332141876, 0.3703356087207794, 0.3682440221309662, 0.36161258816719055, 0.3555157780647278, 0.35396918654441833, 0.35212570428848267, 0.3483678698539734, 0.3430650532245636, 0.3413254916667938, 0.3439168632030487, 0.3379065692424774, 0.33720165491104126, 0.3339948058128357, 0.33280351758003235]}, {\"name\": \"acc\", \"type\": \"scatter\", \"y\": [0.7444375157356262, 0.8212291598320007, 0.8341249823570251, 0.8430833220481873, 0.8461874723434448, 0.8507916927337646, 0.8551666736602783, 0.8573750257492065, 0.859375, 0.8603958487510681, 0.8636666536331177, 0.8645416498184204, 0.8650624752044678, 0.8659999966621399, 0.8688333630561829, 0.8696041703224182, 0.8692291378974915, 0.8703333139419556, 0.8738750219345093, 0.8733124732971191, 0.8722708225250244, 0.8759583234786987, 0.8732708096504211, 0.8767499923706055, 0.8768749833106995]}],\n",
              "                        {\"template\": {\"data\": {\"bar\": [{\"error_x\": {\"color\": \"#2a3f5f\"}, \"error_y\": {\"color\": \"#2a3f5f\"}, \"marker\": {\"line\": {\"color\": \"#E5ECF6\", \"width\": 0.5}}, \"type\": \"bar\"}], \"barpolar\": [{\"marker\": {\"line\": {\"color\": \"#E5ECF6\", \"width\": 0.5}}, \"type\": \"barpolar\"}], \"carpet\": [{\"aaxis\": {\"endlinecolor\": \"#2a3f5f\", \"gridcolor\": \"white\", \"linecolor\": \"white\", \"minorgridcolor\": \"white\", \"startlinecolor\": \"#2a3f5f\"}, \"baxis\": {\"endlinecolor\": \"#2a3f5f\", \"gridcolor\": \"white\", \"linecolor\": \"white\", \"minorgridcolor\": \"white\", \"startlinecolor\": \"#2a3f5f\"}, \"type\": \"carpet\"}], \"choropleth\": [{\"colorbar\": {\"outlinewidth\": 0, \"ticks\": \"\"}, \"type\": \"choropleth\"}], \"contour\": [{\"colorbar\": {\"outlinewidth\": 0, \"ticks\": \"\"}, \"colorscale\": [[0.0, \"#0d0887\"], [0.1111111111111111, \"#46039f\"], [0.2222222222222222, \"#7201a8\"], [0.3333333333333333, \"#9c179e\"], [0.4444444444444444, \"#bd3786\"], [0.5555555555555556, \"#d8576b\"], [0.6666666666666666, \"#ed7953\"], [0.7777777777777778, \"#fb9f3a\"], [0.8888888888888888, \"#fdca26\"], [1.0, \"#f0f921\"]], \"type\": \"contour\"}], \"contourcarpet\": [{\"colorbar\": {\"outlinewidth\": 0, \"ticks\": \"\"}, \"type\": \"contourcarpet\"}], \"heatmap\": [{\"colorbar\": {\"outlinewidth\": 0, \"ticks\": \"\"}, \"colorscale\": [[0.0, \"#0d0887\"], [0.1111111111111111, \"#46039f\"], [0.2222222222222222, \"#7201a8\"], [0.3333333333333333, \"#9c179e\"], [0.4444444444444444, \"#bd3786\"], [0.5555555555555556, \"#d8576b\"], [0.6666666666666666, \"#ed7953\"], [0.7777777777777778, \"#fb9f3a\"], [0.8888888888888888, \"#fdca26\"], [1.0, \"#f0f921\"]], \"type\": \"heatmap\"}], \"heatmapgl\": [{\"colorbar\": {\"outlinewidth\": 0, \"ticks\": \"\"}, \"colorscale\": [[0.0, \"#0d0887\"], [0.1111111111111111, \"#46039f\"], [0.2222222222222222, \"#7201a8\"], [0.3333333333333333, \"#9c179e\"], [0.4444444444444444, \"#bd3786\"], [0.5555555555555556, \"#d8576b\"], [0.6666666666666666, \"#ed7953\"], [0.7777777777777778, \"#fb9f3a\"], [0.8888888888888888, \"#fdca26\"], [1.0, \"#f0f921\"]], \"type\": \"heatmapgl\"}], \"histogram\": [{\"marker\": {\"colorbar\": {\"outlinewidth\": 0, \"ticks\": \"\"}}, \"type\": \"histogram\"}], \"histogram2d\": [{\"colorbar\": {\"outlinewidth\": 0, \"ticks\": \"\"}, \"colorscale\": [[0.0, \"#0d0887\"], [0.1111111111111111, \"#46039f\"], [0.2222222222222222, \"#7201a8\"], [0.3333333333333333, \"#9c179e\"], [0.4444444444444444, \"#bd3786\"], [0.5555555555555556, \"#d8576b\"], [0.6666666666666666, \"#ed7953\"], [0.7777777777777778, \"#fb9f3a\"], [0.8888888888888888, \"#fdca26\"], [1.0, \"#f0f921\"]], \"type\": \"histogram2d\"}], \"histogram2dcontour\": [{\"colorbar\": {\"outlinewidth\": 0, \"ticks\": \"\"}, \"colorscale\": [[0.0, \"#0d0887\"], [0.1111111111111111, \"#46039f\"], [0.2222222222222222, \"#7201a8\"], [0.3333333333333333, \"#9c179e\"], [0.4444444444444444, \"#bd3786\"], [0.5555555555555556, \"#d8576b\"], [0.6666666666666666, \"#ed7953\"], [0.7777777777777778, \"#fb9f3a\"], [0.8888888888888888, \"#fdca26\"], [1.0, \"#f0f921\"]], \"type\": \"histogram2dcontour\"}], \"mesh3d\": [{\"colorbar\": {\"outlinewidth\": 0, \"ticks\": \"\"}, \"type\": \"mesh3d\"}], \"parcoords\": [{\"line\": {\"colorbar\": {\"outlinewidth\": 0, \"ticks\": \"\"}}, \"type\": \"parcoords\"}], \"pie\": [{\"automargin\": true, \"type\": \"pie\"}], \"scatter\": [{\"marker\": {\"colorbar\": {\"outlinewidth\": 0, \"ticks\": \"\"}}, \"type\": \"scatter\"}], \"scatter3d\": [{\"line\": {\"colorbar\": {\"outlinewidth\": 0, \"ticks\": \"\"}}, \"marker\": {\"colorbar\": {\"outlinewidth\": 0, \"ticks\": \"\"}}, \"type\": \"scatter3d\"}], \"scattercarpet\": [{\"marker\": {\"colorbar\": {\"outlinewidth\": 0, \"ticks\": \"\"}}, \"type\": \"scattercarpet\"}], \"scattergeo\": [{\"marker\": {\"colorbar\": {\"outlinewidth\": 0, \"ticks\": \"\"}}, \"type\": \"scattergeo\"}], \"scattergl\": [{\"marker\": {\"colorbar\": {\"outlinewidth\": 0, \"ticks\": \"\"}}, \"type\": \"scattergl\"}], \"scattermapbox\": [{\"marker\": {\"colorbar\": {\"outlinewidth\": 0, \"ticks\": \"\"}}, \"type\": \"scattermapbox\"}], \"scatterpolar\": [{\"marker\": {\"colorbar\": {\"outlinewidth\": 0, \"ticks\": \"\"}}, \"type\": \"scatterpolar\"}], \"scatterpolargl\": [{\"marker\": {\"colorbar\": {\"outlinewidth\": 0, \"ticks\": \"\"}}, \"type\": \"scatterpolargl\"}], \"scatterternary\": [{\"marker\": {\"colorbar\": {\"outlinewidth\": 0, \"ticks\": \"\"}}, \"type\": \"scatterternary\"}], \"surface\": [{\"colorbar\": {\"outlinewidth\": 0, \"ticks\": \"\"}, \"colorscale\": [[0.0, \"#0d0887\"], [0.1111111111111111, \"#46039f\"], [0.2222222222222222, \"#7201a8\"], [0.3333333333333333, \"#9c179e\"], [0.4444444444444444, \"#bd3786\"], [0.5555555555555556, \"#d8576b\"], [0.6666666666666666, \"#ed7953\"], [0.7777777777777778, \"#fb9f3a\"], [0.8888888888888888, \"#fdca26\"], [1.0, \"#f0f921\"]], \"type\": \"surface\"}], \"table\": [{\"cells\": {\"fill\": {\"color\": \"#EBF0F8\"}, \"line\": {\"color\": \"white\"}}, \"header\": {\"fill\": {\"color\": \"#C8D4E3\"}, \"line\": {\"color\": \"white\"}}, \"type\": \"table\"}]}, \"layout\": {\"annotationdefaults\": {\"arrowcolor\": \"#2a3f5f\", \"arrowhead\": 0, \"arrowwidth\": 1}, \"coloraxis\": {\"colorbar\": {\"outlinewidth\": 0, \"ticks\": \"\"}}, \"colorscale\": {\"diverging\": [[0, \"#8e0152\"], [0.1, \"#c51b7d\"], [0.2, \"#de77ae\"], [0.3, \"#f1b6da\"], [0.4, \"#fde0ef\"], [0.5, \"#f7f7f7\"], [0.6, \"#e6f5d0\"], [0.7, \"#b8e186\"], [0.8, \"#7fbc41\"], [0.9, \"#4d9221\"], [1, \"#276419\"]], \"sequential\": [[0.0, \"#0d0887\"], [0.1111111111111111, \"#46039f\"], [0.2222222222222222, \"#7201a8\"], [0.3333333333333333, \"#9c179e\"], [0.4444444444444444, \"#bd3786\"], [0.5555555555555556, \"#d8576b\"], [0.6666666666666666, \"#ed7953\"], [0.7777777777777778, \"#fb9f3a\"], [0.8888888888888888, \"#fdca26\"], [1.0, \"#f0f921\"]], \"sequentialminus\": [[0.0, \"#0d0887\"], [0.1111111111111111, \"#46039f\"], [0.2222222222222222, \"#7201a8\"], [0.3333333333333333, \"#9c179e\"], [0.4444444444444444, \"#bd3786\"], [0.5555555555555556, \"#d8576b\"], [0.6666666666666666, \"#ed7953\"], [0.7777777777777778, \"#fb9f3a\"], [0.8888888888888888, \"#fdca26\"], [1.0, \"#f0f921\"]]}, \"colorway\": [\"#636efa\", \"#EF553B\", \"#00cc96\", \"#ab63fa\", \"#FFA15A\", \"#19d3f3\", \"#FF6692\", \"#B6E880\", \"#FF97FF\", \"#FECB52\"], \"font\": {\"color\": \"#2a3f5f\"}, \"geo\": {\"bgcolor\": \"white\", \"lakecolor\": \"white\", \"landcolor\": \"#E5ECF6\", \"showlakes\": true, \"showland\": true, \"subunitcolor\": \"white\"}, \"hoverlabel\": {\"align\": \"left\"}, \"hovermode\": \"closest\", \"mapbox\": {\"style\": \"light\"}, \"paper_bgcolor\": \"white\", \"plot_bgcolor\": \"#E5ECF6\", \"polar\": {\"angularaxis\": {\"gridcolor\": \"white\", \"linecolor\": \"white\", \"ticks\": \"\"}, \"bgcolor\": \"#E5ECF6\", \"radialaxis\": {\"gridcolor\": \"white\", \"linecolor\": \"white\", \"ticks\": \"\"}}, \"scene\": {\"xaxis\": {\"backgroundcolor\": \"#E5ECF6\", \"gridcolor\": \"white\", \"gridwidth\": 2, \"linecolor\": \"white\", \"showbackground\": true, \"ticks\": \"\", \"zerolinecolor\": \"white\"}, \"yaxis\": {\"backgroundcolor\": \"#E5ECF6\", \"gridcolor\": \"white\", \"gridwidth\": 2, \"linecolor\": \"white\", \"showbackground\": true, \"ticks\": \"\", \"zerolinecolor\": \"white\"}, \"zaxis\": {\"backgroundcolor\": \"#E5ECF6\", \"gridcolor\": \"white\", \"gridwidth\": 2, \"linecolor\": \"white\", \"showbackground\": true, \"ticks\": \"\", \"zerolinecolor\": \"white\"}}, \"shapedefaults\": {\"line\": {\"color\": \"#2a3f5f\"}}, \"ternary\": {\"aaxis\": {\"gridcolor\": \"white\", \"linecolor\": \"white\", \"ticks\": \"\"}, \"baxis\": {\"gridcolor\": \"white\", \"linecolor\": \"white\", \"ticks\": \"\"}, \"bgcolor\": \"#E5ECF6\", \"caxis\": {\"gridcolor\": \"white\", \"linecolor\": \"white\", \"ticks\": \"\"}}, \"title\": {\"x\": 0.05}, \"xaxis\": {\"automargin\": true, \"gridcolor\": \"white\", \"linecolor\": \"white\", \"ticks\": \"\", \"title\": {\"standoff\": 15}, \"zerolinecolor\": \"white\", \"zerolinewidth\": 2}, \"yaxis\": {\"automargin\": true, \"gridcolor\": \"white\", \"linecolor\": \"white\", \"ticks\": \"\", \"title\": {\"standoff\": 15}, \"zerolinecolor\": \"white\", \"zerolinewidth\": 2}}}},\n",
              "                        {\"responsive\": true}\n",
              "                    ).then(function(){\n",
              "                            \n",
              "var gd = document.getElementById('523f5b3d-315d-458d-b26e-0bab5245ca82');\n",
              "var x = new MutationObserver(function (mutations, observer) {{\n",
              "        var display = window.getComputedStyle(gd).display;\n",
              "        if (!display || display === 'none') {{\n",
              "            console.log([gd, 'removed!']);\n",
              "            Plotly.purge(gd);\n",
              "            observer.disconnect();\n",
              "        }}\n",
              "}});\n",
              "\n",
              "// Listen for the removal of the full notebook cells\n",
              "var notebookContainer = gd.closest('#notebook-container');\n",
              "if (notebookContainer) {{\n",
              "    x.observe(notebookContainer, {childList: true});\n",
              "}}\n",
              "\n",
              "// Listen for the clearing of the current output cell\n",
              "var outputEl = gd.closest('.output');\n",
              "if (outputEl) {{\n",
              "    x.observe(outputEl, {childList: true});\n",
              "}}\n",
              "\n",
              "                        })\n",
              "                };\n",
              "                \n",
              "            </script>\n",
              "        </div>\n",
              "</body>\n",
              "</html>"
            ]
          },
          "metadata": {}
        }
      ]
    },
    {
      "cell_type": "code",
      "metadata": {
        "id": "niPTGVUYTtGW"
      },
      "source": [
        "model.save('model_32_16_epochs_25.h5')"
      ],
      "execution_count": null,
      "outputs": []
    },
    {
      "cell_type": "code",
      "metadata": {
        "id": "MncvSca7dSLB"
      },
      "source": [
        "pred_proba = model.predict(x_test)\n",
        "pred = pred_proba.argmax(axis=-1)"
      ],
      "execution_count": null,
      "outputs": []
    },
    {
      "cell_type": "code",
      "metadata": {
        "id": "b4cJPBOX-e_M"
      },
      "source": [
        "df = pd.DataFrame({'y': y_test, 'pred': pred})"
      ],
      "execution_count": null,
      "outputs": []
    },
    {
      "cell_type": "code",
      "metadata": {
        "id": "yidxI5WZ-zBi"
      },
      "source": [
        "pred_err = df[df.y != df.pred]\n",
        "idx_err = pred_err.index.copy()\n",
        "pred_err = pred_err.reset_index(drop=True)\n",
        "pred_err['err_index'] = idx_err\n"
      ],
      "execution_count": null,
      "outputs": []
    },
    {
      "cell_type": "code",
      "metadata": {
        "colab": {
          "base_uri": "https://localhost:8080/",
          "height": 794
        },
        "id": "3l7_yBCA_jXg",
        "outputId": "90ee5251-caf3-4c74-a952-d5965894ae03"
      },
      "source": [
        "from plotly.subplots import  make_subplots\n",
        "fig = make_subplots(cols=6)\n",
        "plt.figure(figsize=(26, 6))\n",
        "for i in range(1, 7):\n",
        "  plt.subplot(1, 6, i,)\n",
        "  rand_index = np.random.randint(pred_err.shape[0])\n",
        "  err_index = pred_err.err_index.iloc[rand_index]\n",
        "  plt.imshow(x_test[err_index], cmap='gray_r', )\n",
        "  plt.axis('off')\n",
        "  plt.title(f'y: {fasion_classes[pred_err.y.iloc[rand_index]]}\\npred: {fasion_classes[pred_err.pred.iloc[rand_index]]}')\n",
        "  fig.add_trace(go.Bar(x=fasion_classes, y=pred_proba[err_index]), row=1, col=i)\n",
        "\n",
        "plt.show()\n",
        "fig.update_layout(width=1600)"
      ],
      "execution_count": null,
      "outputs": [
        {
          "output_type": "display_data",
          "data": {
            "image/png": "[encoded data removed]",
            "text/plain": [
              "<Figure size 1872x432 with 6 Axes>"
            ]
          },
          "metadata": {
            "needs_background": "light"
          }
        },
        {
          "output_type": "display_data",
          "data": {
            "text/html": [
              "<html>\n",
              "<head><meta charset=\"utf-8\" /></head>\n",
              "<body>\n",
              "    <div>\n",
              "            <script src=\"https://cdnjs.cloudflare.com/ajax/libs/mathjax/2.7.5/MathJax.js?config=TeX-AMS-MML_SVG\"></script><script type=\"text/javascript\">if (window.MathJax) {MathJax.Hub.Config({SVG: {font: \"STIX-Web\"}});}</script>\n",
              "                <script type=\"text/javascript\">window.PlotlyConfig = {MathJaxConfig: 'local'};</script>\n",
              "        <script src=\"https://cdn.plot.ly/plotly-latest.min.js\"></script>    \n",
              "            <div id=\"36b8633e-b28f-48d3-a5fc-913397020ecf\" class=\"plotly-graph-div\" style=\"height:525px; width:1600px;\"></div>\n",
              "            <script type=\"text/javascript\">\n",
              "                \n",
              "                    window.PLOTLYENV=window.PLOTLYENV || {};\n",
              "                    \n",
              "                if (document.getElementById(\"36b8633e-b28f-48d3-a5fc-913397020ecf\")) {\n",
              "                    Plotly.newPlot(\n",
              "                        '36b8633e-b28f-48d3-a5fc-913397020ecf',\n",
              "                        [{\"type\": \"bar\", \"x\": [\"T-shirt/top\", \"Trouser\", \"Pullover\", \"Dress\", \"Coat\", \"Sandal\", \"Shirt\", \"Sneaker\", \"Bag\", \"Ankle boot\"], \"xaxis\": \"x\", \"y\": [0.42140936851501465, 0.009380958043038845, 0.00708815036341548, 0.2537730932235718, 0.0025418708100914955, 8.287250352623232e-07, 0.30544376373291016, 4.492599625649518e-09, 0.0003618141636252403, 6.095406490658206e-08], \"yaxis\": \"y\"}, {\"type\": \"bar\", \"x\": [\"T-shirt/top\", \"Trouser\", \"Pullover\", \"Dress\", \"Coat\", \"Sandal\", \"Shirt\", \"Sneaker\", \"Bag\", \"Ankle boot\"], \"xaxis\": \"x2\", \"y\": [6.725174898747355e-05, 2.0403117559908424e-06, 0.3923076093196869, 3.6544183785736095e-06, 0.5643680691719055, 6.052422452107464e-11, 0.04324930161237717, 1.0008000558923286e-13, 1.5080371440490126e-06, 5.136325853527524e-07], \"yaxis\": \"y2\"}, {\"type\": \"bar\", \"x\": [\"T-shirt/top\", \"Trouser\", \"Pullover\", \"Dress\", \"Coat\", \"Sandal\", \"Shirt\", \"Sneaker\", \"Bag\", \"Ankle boot\"], \"xaxis\": \"x3\", \"y\": [0.0010584560222923756, 6.64124236209318e-05, 0.5511757135391235, 9.367251914227381e-05, 0.44576799869537354, 4.335813305611502e-11, 0.001609338796697557, 2.272628307764535e-09, 0.00022843678016215563, 4.164850686549926e-09], \"yaxis\": \"y3\"}, {\"type\": \"bar\", \"x\": [\"T-shirt/top\", \"Trouser\", \"Pullover\", \"Dress\", \"Coat\", \"Sandal\", \"Shirt\", \"Sneaker\", \"Bag\", \"Ankle boot\"], \"xaxis\": \"x4\", \"y\": [7.053779700072482e-05, 0.0025409585796296597, 9.927853534463793e-05, 0.9905091524124146, 0.006550290621817112, 3.4455735486993433e-10, 0.00018715513579081744, 8.117412991781592e-12, 4.264353992766701e-05, 8.82519890499367e-11], \"yaxis\": \"y4\"}, {\"type\": \"bar\", \"x\": [\"T-shirt/top\", \"Trouser\", \"Pullover\", \"Dress\", \"Coat\", \"Sandal\", \"Shirt\", \"Sneaker\", \"Bag\", \"Ankle boot\"], \"xaxis\": \"x5\", \"y\": [0.3347395956516266, 0.022938858717679977, 0.026246238499879837, 0.29089438915252686, 0.010475692339241505, 0.00020603460143320262, 0.3111821711063385, 3.76629418497032e-06, 0.0031585569959133863, 0.00015471308142878115], \"yaxis\": \"y5\"}, {\"type\": \"bar\", \"x\": [\"T-shirt/top\", \"Trouser\", \"Pullover\", \"Dress\", \"Coat\", \"Sandal\", \"Shirt\", \"Sneaker\", \"Bag\", \"Ankle boot\"], \"xaxis\": \"x6\", \"y\": [0.006808167323470116, 0.0006508463411591947, 0.4642806947231293, 0.0016056285239756107, 0.21128244698047638, 1.2337577572907321e-05, 0.3144228756427765, 1.1231799135202891e-07, 0.0003625176614150405, 0.000574379984755069], \"yaxis\": \"y6\"}],\n",
              "                        {\"template\": {\"data\": {\"bar\": [{\"error_x\": {\"color\": \"#2a3f5f\"}, \"error_y\": {\"color\": \"#2a3f5f\"}, \"marker\": {\"line\": {\"color\": \"#E5ECF6\", \"width\": 0.5}}, \"type\": \"bar\"}], \"barpolar\": [{\"marker\": {\"line\": {\"color\": \"#E5ECF6\", \"width\": 0.5}}, \"type\": \"barpolar\"}], \"carpet\": [{\"aaxis\": {\"endlinecolor\": \"#2a3f5f\", \"gridcolor\": \"white\", \"linecolor\": \"white\", \"minorgridcolor\": \"white\", \"startlinecolor\": \"#2a3f5f\"}, \"baxis\": {\"endlinecolor\": \"#2a3f5f\", \"gridcolor\": \"white\", \"linecolor\": \"white\", \"minorgridcolor\": \"white\", \"startlinecolor\": \"#2a3f5f\"}, \"type\": \"carpet\"}], \"choropleth\": [{\"colorbar\": {\"outlinewidth\": 0, \"ticks\": \"\"}, \"type\": \"choropleth\"}], \"contour\": [{\"colorbar\": {\"outlinewidth\": 0, \"ticks\": \"\"}, \"colorscale\": [[0.0, \"#0d0887\"], [0.1111111111111111, \"#46039f\"], [0.2222222222222222, \"#7201a8\"], [0.3333333333333333, \"#9c179e\"], [0.4444444444444444, \"#bd3786\"], [0.5555555555555556, \"#d8576b\"], [0.6666666666666666, \"#ed7953\"], [0.7777777777777778, \"#fb9f3a\"], [0.8888888888888888, \"#fdca26\"], [1.0, \"#f0f921\"]], \"type\": \"contour\"}], \"contourcarpet\": [{\"colorbar\": {\"outlinewidth\": 0, \"ticks\": \"\"}, \"type\": \"contourcarpet\"}], \"heatmap\": [{\"colorbar\": {\"outlinewidth\": 0, \"ticks\": \"\"}, \"colorscale\": [[0.0, \"#0d0887\"], [0.1111111111111111, \"#46039f\"], [0.2222222222222222, \"#7201a8\"], [0.3333333333333333, \"#9c179e\"], [0.4444444444444444, \"#bd3786\"], [0.5555555555555556, \"#d8576b\"], [0.6666666666666666, \"#ed7953\"], [0.7777777777777778, \"#fb9f3a\"], [0.8888888888888888, \"#fdca26\"], [1.0, \"#f0f921\"]], \"type\": \"heatmap\"}], \"heatmapgl\": [{\"colorbar\": {\"outlinewidth\": 0, \"ticks\": \"\"}, \"colorscale\": [[0.0, \"#0d0887\"], [0.1111111111111111, \"#46039f\"], [0.2222222222222222, \"#7201a8\"], [0.3333333333333333, \"#9c179e\"], [0.4444444444444444, \"#bd3786\"], [0.5555555555555556, \"#d8576b\"], [0.6666666666666666, \"#ed7953\"], [0.7777777777777778, \"#fb9f3a\"], [0.8888888888888888, \"#fdca26\"], [1.0, \"#f0f921\"]], \"type\": \"heatmapgl\"}], \"histogram\": [{\"marker\": {\"colorbar\": {\"outlinewidth\": 0, \"ticks\": \"\"}}, \"type\": \"histogram\"}], \"histogram2d\": [{\"colorbar\": {\"outlinewidth\": 0, \"ticks\": \"\"}, \"colorscale\": [[0.0, \"#0d0887\"], [0.1111111111111111, \"#46039f\"], [0.2222222222222222, \"#7201a8\"], [0.3333333333333333, \"#9c179e\"], [0.4444444444444444, \"#bd3786\"], [0.5555555555555556, \"#d8576b\"], [0.6666666666666666, \"#ed7953\"], [0.7777777777777778, \"#fb9f3a\"], [0.8888888888888888, \"#fdca26\"], [1.0, \"#f0f921\"]], \"type\": \"histogram2d\"}], \"histogram2dcontour\": [{\"colorbar\": {\"outlinewidth\": 0, \"ticks\": \"\"}, \"colorscale\": [[0.0, \"#0d0887\"], [0.1111111111111111, \"#46039f\"], [0.2222222222222222, \"#7201a8\"], [0.3333333333333333, \"#9c179e\"], [0.4444444444444444, \"#bd3786\"], [0.5555555555555556, \"#d8576b\"], [0.6666666666666666, \"#ed7953\"], [0.7777777777777778, \"#fb9f3a\"], [0.8888888888888888, \"#fdca26\"], [1.0, \"#f0f921\"]], \"type\": \"histogram2dcontour\"}], \"mesh3d\": [{\"colorbar\": {\"outlinewidth\": 0, \"ticks\": \"\"}, \"type\": \"mesh3d\"}], \"parcoords\": [{\"line\": {\"colorbar\": {\"outlinewidth\": 0, \"ticks\": \"\"}}, \"type\": \"parcoords\"}], \"pie\": [{\"automargin\": true, \"type\": \"pie\"}], \"scatter\": [{\"marker\": {\"colorbar\": {\"outlinewidth\": 0, \"ticks\": \"\"}}, \"type\": \"scatter\"}], \"scatter3d\": [{\"line\": {\"colorbar\": {\"outlinewidth\": 0, \"ticks\": \"\"}}, \"marker\": {\"colorbar\": {\"outlinewidth\": 0, \"ticks\": \"\"}}, \"type\": \"scatter3d\"}], \"scattercarpet\": [{\"marker\": {\"colorbar\": {\"outlinewidth\": 0, \"ticks\": \"\"}}, \"type\": \"scattercarpet\"}], \"scattergeo\": [{\"marker\": {\"colorbar\": {\"outlinewidth\": 0, \"ticks\": \"\"}}, \"type\": \"scattergeo\"}], \"scattergl\": [{\"marker\": {\"colorbar\": {\"outlinewidth\": 0, \"ticks\": \"\"}}, \"type\": \"scattergl\"}], \"scattermapbox\": [{\"marker\": {\"colorbar\": {\"outlinewidth\": 0, \"ticks\": \"\"}}, \"type\": \"scattermapbox\"}], \"scatterpolar\": [{\"marker\": {\"colorbar\": {\"outlinewidth\": 0, \"ticks\": \"\"}}, \"type\": \"scatterpolar\"}], \"scatterpolargl\": [{\"marker\": {\"colorbar\": {\"outlinewidth\": 0, \"ticks\": \"\"}}, \"type\": \"scatterpolargl\"}], \"scatterternary\": [{\"marker\": {\"colorbar\": {\"outlinewidth\": 0, \"ticks\": \"\"}}, \"type\": \"scatterternary\"}], \"surface\": [{\"colorbar\": {\"outlinewidth\": 0, \"ticks\": \"\"}, \"colorscale\": [[0.0, \"#0d0887\"], [0.1111111111111111, \"#46039f\"], [0.2222222222222222, \"#7201a8\"], [0.3333333333333333, \"#9c179e\"], [0.4444444444444444, \"#bd3786\"], [0.5555555555555556, \"#d8576b\"], [0.6666666666666666, \"#ed7953\"], [0.7777777777777778, \"#fb9f3a\"], [0.8888888888888888, \"#fdca26\"], [1.0, \"#f0f921\"]], \"type\": \"surface\"}], \"table\": [{\"cells\": {\"fill\": {\"color\": \"#EBF0F8\"}, \"line\": {\"color\": \"white\"}}, \"header\": {\"fill\": {\"color\": \"#C8D4E3\"}, \"line\": {\"color\": \"white\"}}, \"type\": \"table\"}]}, \"layout\": {\"annotationdefaults\": {\"arrowcolor\": \"#2a3f5f\", \"arrowhead\": 0, \"arrowwidth\": 1}, \"coloraxis\": {\"colorbar\": {\"outlinewidth\": 0, \"ticks\": \"\"}}, \"colorscale\": {\"diverging\": [[0, \"#8e0152\"], [0.1, \"#c51b7d\"], [0.2, \"#de77ae\"], [0.3, \"#f1b6da\"], [0.4, \"#fde0ef\"], [0.5, \"#f7f7f7\"], [0.6, \"#e6f5d0\"], [0.7, \"#b8e186\"], [0.8, \"#7fbc41\"], [0.9, \"#4d9221\"], [1, \"#276419\"]], \"sequential\": [[0.0, \"#0d0887\"], [0.1111111111111111, \"#46039f\"], [0.2222222222222222, \"#7201a8\"], [0.3333333333333333, \"#9c179e\"], [0.4444444444444444, \"#bd3786\"], [0.5555555555555556, \"#d8576b\"], [0.6666666666666666, \"#ed7953\"], [0.7777777777777778, \"#fb9f3a\"], [0.8888888888888888, \"#fdca26\"], [1.0, \"#f0f921\"]], \"sequentialminus\": [[0.0, \"#0d0887\"], [0.1111111111111111, \"#46039f\"], [0.2222222222222222, \"#7201a8\"], [0.3333333333333333, \"#9c179e\"], [0.4444444444444444, \"#bd3786\"], [0.5555555555555556, \"#d8576b\"], [0.6666666666666666, \"#ed7953\"], [0.7777777777777778, \"#fb9f3a\"], [0.8888888888888888, \"#fdca26\"], [1.0, \"#f0f921\"]]}, \"colorway\": [\"#636efa\", \"#EF553B\", \"#00cc96\", \"#ab63fa\", \"#FFA15A\", \"#19d3f3\", \"#FF6692\", \"#B6E880\", \"#FF97FF\", \"#FECB52\"], \"font\": {\"color\": \"#2a3f5f\"}, \"geo\": {\"bgcolor\": \"white\", \"lakecolor\": \"white\", \"landcolor\": \"#E5ECF6\", \"showlakes\": true, \"showland\": true, \"subunitcolor\": \"white\"}, \"hoverlabel\": {\"align\": \"left\"}, \"hovermode\": \"closest\", \"mapbox\": {\"style\": \"light\"}, \"paper_bgcolor\": \"white\", \"plot_bgcolor\": \"#E5ECF6\", \"polar\": {\"angularaxis\": {\"gridcolor\": \"white\", \"linecolor\": \"white\", \"ticks\": \"\"}, \"bgcolor\": \"#E5ECF6\", \"radialaxis\": {\"gridcolor\": \"white\", \"linecolor\": \"white\", \"ticks\": \"\"}}, \"scene\": {\"xaxis\": {\"backgroundcolor\": \"#E5ECF6\", \"gridcolor\": \"white\", \"gridwidth\": 2, \"linecolor\": \"white\", \"showbackground\": true, \"ticks\": \"\", \"zerolinecolor\": \"white\"}, \"yaxis\": {\"backgroundcolor\": \"#E5ECF6\", \"gridcolor\": \"white\", \"gridwidth\": 2, \"linecolor\": \"white\", \"showbackground\": true, \"ticks\": \"\", \"zerolinecolor\": \"white\"}, \"zaxis\": {\"backgroundcolor\": \"#E5ECF6\", \"gridcolor\": \"white\", \"gridwidth\": 2, \"linecolor\": \"white\", \"showbackground\": true, \"ticks\": \"\", \"zerolinecolor\": \"white\"}}, \"shapedefaults\": {\"line\": {\"color\": \"#2a3f5f\"}}, \"ternary\": {\"aaxis\": {\"gridcolor\": \"white\", \"linecolor\": \"white\", \"ticks\": \"\"}, \"baxis\": {\"gridcolor\": \"white\", \"linecolor\": \"white\", \"ticks\": \"\"}, \"bgcolor\": \"#E5ECF6\", \"caxis\": {\"gridcolor\": \"white\", \"linecolor\": \"white\", \"ticks\": \"\"}}, \"title\": {\"x\": 0.05}, \"xaxis\": {\"automargin\": true, \"gridcolor\": \"white\", \"linecolor\": \"white\", \"ticks\": \"\", \"title\": {\"standoff\": 15}, \"zerolinecolor\": \"white\", \"zerolinewidth\": 2}, \"yaxis\": {\"automargin\": true, \"gridcolor\": \"white\", \"linecolor\": \"white\", \"ticks\": \"\", \"title\": {\"standoff\": 15}, \"zerolinecolor\": \"white\", \"zerolinewidth\": 2}}}, \"width\": 1600, \"xaxis\": {\"anchor\": \"y\", \"domain\": [0.0, 0.1388888888888889]}, \"xaxis2\": {\"anchor\": \"y2\", \"domain\": [0.17222222222222222, 0.3111111111111111]}, \"xaxis3\": {\"anchor\": \"y3\", \"domain\": [0.34444444444444444, 0.48333333333333334]}, \"xaxis4\": {\"anchor\": \"y4\", \"domain\": [0.5166666666666667, 0.6555555555555557]}, \"xaxis5\": {\"anchor\": \"y5\", \"domain\": [0.6888888888888889, 0.8277777777777777]}, \"xaxis6\": {\"anchor\": \"y6\", \"domain\": [0.861111111111111, 1.0]}, \"yaxis\": {\"anchor\": \"x\", \"domain\": [0.0, 1.0]}, \"yaxis2\": {\"anchor\": \"x2\", \"domain\": [0.0, 1.0]}, \"yaxis3\": {\"anchor\": \"x3\", \"domain\": [0.0, 1.0]}, \"yaxis4\": {\"anchor\": \"x4\", \"domain\": [0.0, 1.0]}, \"yaxis5\": {\"anchor\": \"x5\", \"domain\": [0.0, 1.0]}, \"yaxis6\": {\"anchor\": \"x6\", \"domain\": [0.0, 1.0]}},\n",
              "                        {\"responsive\": true}\n",
              "                    ).then(function(){\n",
              "                            \n",
              "var gd = document.getElementById('36b8633e-b28f-48d3-a5fc-913397020ecf');\n",
              "var x = new MutationObserver(function (mutations, observer) {{\n",
              "        var display = window.getComputedStyle(gd).display;\n",
              "        if (!display || display === 'none') {{\n",
              "            console.log([gd, 'removed!']);\n",
              "            Plotly.purge(gd);\n",
              "            observer.disconnect();\n",
              "        }}\n",
              "}});\n",
              "\n",
              "// Listen for the removal of the full notebook cells\n",
              "var notebookContainer = gd.closest('#notebook-container');\n",
              "if (notebookContainer) {{\n",
              "    x.observe(notebookContainer, {childList: true});\n",
              "}}\n",
              "\n",
              "// Listen for the clearing of the current output cell\n",
              "var outputEl = gd.closest('.output');\n",
              "if (outputEl) {{\n",
              "    x.observe(outputEl, {childList: true});\n",
              "}}\n",
              "\n",
              "                        })\n",
              "                };\n",
              "                \n",
              "            </script>\n",
              "        </div>\n",
              "</body>\n",
              "</html>"
            ]
          },
          "metadata": {}
        }
      ]
    }
  ]
}